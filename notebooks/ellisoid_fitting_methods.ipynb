{
 "cells": [
  {
   "cell_type": "code",
   "execution_count": 1,
   "metadata": {},
   "outputs": [],
   "source": [
    "%load_ext autoreload\n",
    "%autoreload 2"
   ]
  },
  {
   "cell_type": "code",
   "execution_count": 2,
   "metadata": {},
   "outputs": [],
   "source": [
    "import numpy as np\n",
    "import matplotlib.pyplot as plt\n",
    "plt.style.use(\"MNRAS\")"
   ]
  },
  {
   "cell_type": "code",
   "execution_count": 3,
   "metadata": {},
   "outputs": [],
   "source": [
    "import ellipsoid3d"
   ]
  },
  {
   "cell_type": "code",
   "execution_count": 4,
   "metadata": {},
   "outputs": [],
   "source": [
    "from ellipsoid3d.features import ellipsoid_estimation"
   ]
  },
  {
   "cell_type": "code",
   "execution_count": 5,
   "metadata": {},
   "outputs": [],
   "source": [
    "from ellipsoid3d.models import model_ellipsoid"
   ]
  },
  {
   "cell_type": "code",
   "execution_count": 22,
   "metadata": {},
   "outputs": [],
   "source": [
    "uniform_ellipsoid_shell = model_ellipsoid.uniform_ellipsoid_shell(1,1,1, n_points=100000)\n",
    "uniform_ellipsoid = model_ellipsoid.uniform_ellipsoid(1,1,1, n_points=10000000)"
   ]
  },
  {
   "cell_type": "code",
   "execution_count": 26,
   "metadata": {},
   "outputs": [
    {
     "name": "stdout",
     "output_type": "stream",
     "text": [
      "Number of particles in shell:  2555733\n",
      "[[ 0.70929224 -0.64717445  0.27940965]\n",
      " [-0.70346043 -0.67529672  0.22162526]\n",
      " [-0.04525422  0.35375071  0.93424434]]\n",
      "projection matrix [[ 0.70929224 -0.64717445  0.27940965]\n",
      " [-0.70346043 -0.67529672  0.22162526]\n",
      " [-0.04525422  0.35375071  0.93424434]]\n"
     ]
    },
    {
     "data": {
      "text/plain": [
       "(True,\n",
       " [923.4333017346859, 922.973393600322, 922.563847087715],\n",
       " [array([ 1.00000000e+00, -4.53781963e-17,  1.40903679e-17]),\n",
       "  array([-6.23848600e-17,  1.00000000e+00,  3.72534911e-17]),\n",
       "  array([ 6.68649281e-18, -4.19700814e-17,  1.00000000e+00])])"
      ]
     },
     "execution_count": 26,
     "metadata": {},
     "output_type": "execute_result"
    }
   ],
   "source": [
    "ellipsoid_estimation.reduced_iterative_tensor_shell(uniform_ellipsoid, [0,0,0], 0.8,1.5)"
   ]
  }
 ],
 "metadata": {
  "kernelspec": {
   "display_name": "new_tng",
   "language": "python",
   "name": "python3"
  },
  "language_info": {
   "codemirror_mode": {
    "name": "ipython",
    "version": 3
   },
   "file_extension": ".py",
   "mimetype": "text/x-python",
   "name": "python",
   "nbconvert_exporter": "python",
   "pygments_lexer": "ipython3",
   "version": "3.11.0"
  },
  "orig_nbformat": 4
 },
 "nbformat": 4,
 "nbformat_minor": 2
}
