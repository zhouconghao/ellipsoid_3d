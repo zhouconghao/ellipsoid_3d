{
 "cells": [
  {
   "cell_type": "code",
   "execution_count": 326,
   "metadata": {},
   "outputs": [
    {
     "name": "stdout",
     "output_type": "stream",
     "text": [
      "The autoreload extension is already loaded. To reload it, use:\n",
      "  %reload_ext autoreload\n"
     ]
    }
   ],
   "source": [
    "%load_ext autoreload\n",
    "%autoreload 2\n",
    "\n",
    "import pyvista as pv\n",
    "import numpy as np\n",
    "from astropy.table import Table"
   ]
  },
  {
   "cell_type": "code",
   "execution_count": 327,
   "metadata": {},
   "outputs": [],
   "source": [
    "from src.features import calculate_shape as cs"
   ]
  },
  {
   "cell_type": "code",
   "execution_count": 328,
   "metadata": {},
   "outputs": [],
   "source": [
    "gal_table = Table.read(\"../data/interim/gal_table.fits\")\n",
    "cen_x = gal_table[gal_table['group_id']==5491][0]['pos_x']\n",
    "cen_y = gal_table[gal_table['group_id']==5491][0]['pos_y']\n",
    "cen_z = gal_table[gal_table['group_id']==5491][0]['pos_z']\n",
    "cen = np.array([cen_x, cen_y, cen_z])"
   ]
  },
  {
   "cell_type": "code",
   "execution_count": 329,
   "metadata": {},
   "outputs": [],
   "source": [
    "import deepdish as dd\n",
    "cutout = dd.io.load('../data/raw/cutout_halo_dm_5491.h5')\n",
    "points = cutout['PartType1']['Coordinates']"
   ]
  },
  {
   "cell_type": "code",
   "execution_count": 330,
   "metadata": {},
   "outputs": [],
   "source": [
    "# import numpy as np\n",
    "\n",
    "# # Choose the semi-axes of the ellipsoid\n",
    "# a = 100.0  # semi-axis length in x-direction\n",
    "# b = 1.0  # semi-axis length in y-direction\n",
    "# c = 1.0  # semi-axis length in z-direction\n",
    "\n",
    "# # Generate uniformly distributed points within a unit sphere\n",
    "# u = np.random.rand(10000)\n",
    "# v = np.random.rand(10000)\n",
    "# theta = 2 * np.pi * u\n",
    "# phi = np.arccos(2 * v - 1)\n",
    "# x = np.sin(phi) * np.cos(theta)\n",
    "# y = np.sin(phi) * np.sin(theta)\n",
    "# z = np.cos(phi)\n",
    "\n",
    "# # Scale the coordinates of the points by the semi-axes of the ellipsoid\n",
    "# points = np.vstack((a*x, b*y, c*z)).T\n",
    "# print(points)\n",
    "# cen=0,0,0"
   ]
  },
  {
   "cell_type": "code",
   "execution_count": 331,
   "metadata": {},
   "outputs": [
    {
     "name": "stdout",
     "output_type": "stream",
     "text": [
      "[-0.1263475   0.23311255  0.43173037]\n"
     ]
    }
   ],
   "source": [
    "print(cen-points[0])"
   ]
  },
  {
   "cell_type": "code",
   "execution_count": 332,
   "metadata": {},
   "outputs": [
    {
     "name": "stdout",
     "output_type": "stream",
     "text": [
      "10165.438143737487\n",
      "21802.066237104296\n",
      "22462.307273560455\n",
      "Number of particles inside virial radius is  136165\n",
      "[[42216.63357481  7889.99875421 -1559.06893714]\n",
      " [ 7889.99875421 45204.97652419 10099.60860341]\n",
      " [-1559.06893714 10099.60860341 48743.389901  ]]\n",
      "a,b,c in the first iteration\n",
      "241.49282588677897 214.78266857991892 178.08599137188324\n",
      "lx in the first iteration [0.2696081  0.68413708 0.67769309]\n",
      "ly in the first iteration [-0.770917   -0.26838329  0.57763084]\n",
      "lz in the first iteration [ 0.57706017 -0.67817908  0.4550546 ]\n",
      "P_axis: [[ 0.2696081   0.68413708  0.67769309]\n",
      " [-0.770917   -0.26838329  0.57763084]\n",
      " [ 0.57706017 -0.67817908  0.4550546 ]]\n",
      "a, b, c  225.5993151306028 189.76411473425574 147.01587656193598\n",
      "q_cur, s_cur 0.7374380200237366 0.8893956488819971\n",
      "P_axis: [[ 0.9999403   0.00824091 -0.00717516]\n",
      " [-0.00821433  0.99995932  0.003725  ]\n",
      " [ 0.00720556 -0.00366584  0.99996732]]\n",
      "a, b, c  218.43286708449904 179.14333430373011 135.27956176355235\n",
      "q_cur, s_cur 0.6516680978256796 0.8411555443969254\n",
      "P_axis: [[ 0.99997659  0.00478122 -0.00489462]\n",
      " [-0.00477114  0.99998648  0.00206868]\n",
      " [ 0.00490444 -0.00204528  0.99998588]]\n",
      "a, b, c  215.34292630803225 174.62557752041724 130.57962014155487\n",
      "q_cur, s_cur 0.6193187113696609 0.8201299405845821\n",
      "P_axis: [[ 0.99999205  0.00264747 -0.00298196]\n",
      " [-0.00264414  0.99999588  0.00111992]\n",
      " [ 0.00298492 -0.00111203  0.99999493]]\n",
      "a, b, c  214.0264800254316 172.6895191847724 128.64329635805913\n",
      "q_cur, s_cur 0.6063798908108563 0.810918568416908\n",
      "P_axis: [[ 9.99997610e-01  1.40750857e-03 -1.67274426e-03]\n",
      " [-1.40652466e-03  9.99998837e-01  5.89233134e-04]\n",
      " [ 1.67357167e-03 -5.86878970e-04  9.99998427e-01]]\n",
      "a, b, c  213.4659086658108 171.85388862822904 127.83311051351552\n",
      "q_cur, s_cur 0.6010625243323777 0.8068605303617228\n",
      "P_axis: [[ 9.99999349e-01  7.22208642e-04 -8.83624300e-04]\n",
      " [-7.21942269e-04  9.99999694e-01  3.01736518e-04]\n",
      " [ 8.83841946e-04 -3.01098396e-04  9.99999564e-01]]\n",
      "a, b, c  213.2264160197119 171.49108797660523 127.49080411922348\n",
      "q_cur, s_cur 0.5988455548358461 0.8050647979451979\n",
      "P_axis: [[ 9.99999835e-01  3.59858744e-04 -4.46836600e-04]\n",
      " [-3.59791314e-04  9.99999924e-01  1.50975348e-04]\n",
      " [ 4.46890896e-04 -1.50814555e-04  9.99999889e-01]]\n",
      "a, b, c  213.12364720690806 171.33282201799958 127.34515753555192\n",
      "q_cur, s_cur 0.5979128032027583 0.8042675536072021\n",
      "P_axis: [[-9.99999961e-01 -1.75173574e-04  2.18886206e-04]\n",
      " [-1.75157353e-04  9.99999982e-01  7.41227726e-05]\n",
      " [-2.18899187e-04  7.40844302e-05 -9.99999973e-01]]\n",
      "a, b, c  213.07934937428888 171.26351379376143 127.28283617482113\n",
      "q_cur, s_cur 0.5975177283444323 0.8039127720616734\n",
      "P_axis: [[-9.99999991e-01  8.37372642e-05  1.04749394e-04]\n",
      " [-8.37335105e-05 -9.99999996e-01  3.58384005e-05]\n",
      " [ 1.04752395e-04  3.58296291e-05  9.99999994e-01]]\n",
      "a, b, c  213.0601743024066 171.23306632356088 127.25604090541272\n",
      "q_cur, s_cur 0.5973494688649525 0.8037546308296869\n",
      "P_axis: [[-9.99999998e-01  3.94715161e-05 -4.92680915e-05]\n",
      " [ 3.94706729e-05  9.99999999e-01  1.71143450e-05]\n",
      " [ 4.92687670e-05  1.71124003e-05 -9.99999999e-01]]\n",
      "a, b, c  213.0518423754687 171.21965617615916 127.24447186062093\n",
      "q_cur, s_cur 0.5972774654956964 0.8036840619520076\n",
      "P_axis: [[-1.00000000e+00 -1.84057822e-05 -2.28736028e-05]\n",
      " [ 1.84055971e-05 -1.00000000e+00  8.09037150e-06]\n",
      " [-2.28737517e-05  8.08995050e-06  1.00000000e+00]]\n",
      "a, b, c  213.04820982768237 171.2137375591913 127.23945842756814\n",
      "q_cur, s_cur 0.5972465219820702 0.8036525489153611\n",
      "P_axis: [[-1.00000000e+00 -8.51106978e-06  1.05150862e-05]\n",
      " [-8.51102990e-06  1.00000000e+00  3.79258949e-06]\n",
      " [-1.05151185e-05  3.79249999e-06 -1.00000000e+00]]\n",
      "a, b, c  213.04662149342144 171.2111209789487 127.23727882070743\n",
      "q_cur, s_cur 0.5972331733295574 0.8036384708309559\n",
      "P_axis: [[-1.00000000e+00  3.90991174e-06  4.79726251e-06]\n",
      " [-3.90990327e-06 -1.00000000e+00  1.76547317e-06]\n",
      " [ 4.79726941e-06  1.76545441e-06  1.00000000e+00]]\n",
      "a, b, c  213.04592525471818 171.2099626622404 127.2363285373995\n",
      "q_cur, s_cur 0.5972273952470837 0.8036321805001515\n",
      "P_axis: [[-1.00000000e+00  1.78690055e-06 -2.17578021e-06]\n",
      " [ 1.78689877e-06  1.00000000e+00  8.16998080e-07]\n",
      " [ 2.17578167e-06  8.16994192e-07 -1.00000000e+00]]\n",
      "a, b, c  213.04561941127787 171.20944935441455 127.23591319686304\n",
      "q_cur, s_cur 0.5972248865369073 0.8036293698531967\n",
      "P_axis: [[-1.00000000e+00 -8.13273751e-07 -9.82278666e-07]\n",
      " [ 8.13273382e-07 -1.00000000e+00  3.76184209e-07]\n",
      " [-9.82278972e-07  3.76183411e-07  1.00000000e+00]]\n",
      "a, b, c  213.04548481804633 171.20922169501432 127.23573127177337\n",
      "q_cur, s_cur 0.5972237943613293 0.8036281141453563\n",
      "P_axis: [[-1.00000000e+00 -3.68910369e-07  4.41853916e-07]\n",
      " [-3.68910292e-07  1.00000000e+00  1.72470407e-07]\n",
      " [-4.41853979e-07  1.72470244e-07 -1.00000000e+00]]\n",
      "a, b, c  213.04542549720375 171.20912066069283 127.2356514365935\n",
      "q_cur, s_cur 0.5972233177363057 0.803627553248722\n"
     ]
    }
   ],
   "source": [
    "# converge, length, axes = cs.quad_moment(points, cen, np.ones(len(points)))\n",
    "converge, length, axes = cs.quad_moment(points, cen, np.ones(len(points)))"
   ]
  },
  {
   "cell_type": "code",
   "execution_count": 333,
   "metadata": {},
   "outputs": [
    {
     "name": "stdout",
     "output_type": "stream",
     "text": [
      "[213.04542549720375, 171.20912066069283, 127.2356514365935]\n",
      "[array([ 0.24458991,  0.7709844 , -0.58801261]), array([0.69141338, 0.28648435, 0.66323016]), array([ 0.67979652, -0.56877919, -0.46299775])]\n"
     ]
    }
   ],
   "source": [
    "print(length)\n",
    "print(axes)"
   ]
  },
  {
   "cell_type": "code",
   "execution_count": 334,
   "metadata": {},
   "outputs": [
    {
     "data": {
      "application/vnd.jupyter.widget-view+json": {
       "model_id": "dc6b299d7a6b4fb0886212189d781deb",
       "version_major": 2,
       "version_minor": 0
      },
      "text/plain": [
       "Widget(value=\"<iframe src='http://localhost:56012/index.html?ui=P_0x1e261da90_32&reconnect=auto' style='width:…"
      ]
     },
     "metadata": {},
     "output_type": "display_data"
    }
   ],
   "source": [
    "pl = pv.Plotter()\n",
    "SCALE = 1\n",
    "x_arrow = pv.Arrow(start = (0,0,0), direction = axes[0], scale=SCALE*length[0])\n",
    "y_arrow = pv.Arrow(start = (0,0,0), direction = axes[1], scale=SCALE*length[1])\n",
    "z_arrow = pv.Arrow(start = (0,0,0), direction = axes[2], scale=SCALE*length[2])\n",
    "actor = pl.add_points(points-cen, color='white', opacity=0.01)\n",
    "actor = pl.add_mesh(x_arrow, color='red')\n",
    "actor = pl.add_mesh(y_arrow, color='green')\n",
    "actor = pl.add_mesh(z_arrow, color='blue')\n",
    "pl.show()"
   ]
  },
  {
   "cell_type": "code",
   "execution_count": null,
   "metadata": {},
   "outputs": [],
   "source": []
  }
 ],
 "metadata": {
  "kernelspec": {
   "display_name": "Python 3",
   "language": "python",
   "name": "python3"
  },
  "language_info": {
   "codemirror_mode": {
    "name": "ipython",
    "version": 3
   },
   "file_extension": ".py",
   "mimetype": "text/x-python",
   "name": "python",
   "nbconvert_exporter": "python",
   "pygments_lexer": "ipython3",
   "version": "3.11.0"
  },
  "orig_nbformat": 4
 },
 "nbformat": 4,
 "nbformat_minor": 2
}
