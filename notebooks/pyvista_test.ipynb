{
 "cells": [
  {
   "cell_type": "code",
   "execution_count": 1,
   "metadata": {},
   "outputs": [],
   "source": [
    "%load_ext autoreload\n",
    "%autoreload 2\n",
    "\n",
    "import pyvista as pv\n",
    "import numpy as np\n",
    "from astropy.table import Table"
   ]
  },
  {
   "cell_type": "code",
   "execution_count": 2,
   "metadata": {},
   "outputs": [],
   "source": [
    "from src.features import calculate_shape as cs"
   ]
  },
  {
   "cell_type": "code",
   "execution_count": 3,
   "metadata": {},
   "outputs": [
    {
     "ename": "FileNotFoundError",
     "evalue": "[Errno 2] No such file or directory: '../data/interim/gal_table.fits'",
     "output_type": "error",
     "traceback": [
      "\u001b[0;31m---------------------------------------------------------------------------\u001b[0m",
      "\u001b[0;31mFileNotFoundError\u001b[0m                         Traceback (most recent call last)",
      "Cell \u001b[0;32mIn[3], line 1\u001b[0m\n\u001b[0;32m----> 1\u001b[0m gal_table \u001b[39m=\u001b[39m Table\u001b[39m.\u001b[39;49mread(\u001b[39m\"\u001b[39;49m\u001b[39m../data/interim/gal_table.fits\u001b[39;49m\u001b[39m\"\u001b[39;49m)\n\u001b[1;32m      2\u001b[0m cen_x \u001b[39m=\u001b[39m gal_table[gal_table[\u001b[39m'\u001b[39m\u001b[39mgroup_id\u001b[39m\u001b[39m'\u001b[39m]\u001b[39m==\u001b[39m\u001b[39m5491\u001b[39m][\u001b[39m0\u001b[39m][\u001b[39m'\u001b[39m\u001b[39mpos_x\u001b[39m\u001b[39m'\u001b[39m]\n\u001b[1;32m      3\u001b[0m cen_y \u001b[39m=\u001b[39m gal_table[gal_table[\u001b[39m'\u001b[39m\u001b[39mgroup_id\u001b[39m\u001b[39m'\u001b[39m]\u001b[39m==\u001b[39m\u001b[39m5491\u001b[39m][\u001b[39m0\u001b[39m][\u001b[39m'\u001b[39m\u001b[39mpos_y\u001b[39m\u001b[39m'\u001b[39m]\n",
      "File \u001b[0;32m/data/groups/jeltema/zhou/miniconda3/envs/new_tng/lib/python3.11/site-packages/astropy/table/connect.py:62\u001b[0m, in \u001b[0;36mTableRead.__call__\u001b[0;34m(self, *args, **kwargs)\u001b[0m\n\u001b[1;32m     59\u001b[0m units \u001b[39m=\u001b[39m kwargs\u001b[39m.\u001b[39mpop(\u001b[39m\"\u001b[39m\u001b[39munits\u001b[39m\u001b[39m\"\u001b[39m, \u001b[39mNone\u001b[39;00m)\n\u001b[1;32m     60\u001b[0m descriptions \u001b[39m=\u001b[39m kwargs\u001b[39m.\u001b[39mpop(\u001b[39m\"\u001b[39m\u001b[39mdescriptions\u001b[39m\u001b[39m\"\u001b[39m, \u001b[39mNone\u001b[39;00m)\n\u001b[0;32m---> 62\u001b[0m out \u001b[39m=\u001b[39m \u001b[39mself\u001b[39;49m\u001b[39m.\u001b[39;49mregistry\u001b[39m.\u001b[39;49mread(\u001b[39mcls\u001b[39;49m, \u001b[39m*\u001b[39;49margs, \u001b[39m*\u001b[39;49m\u001b[39m*\u001b[39;49mkwargs)\n\u001b[1;32m     64\u001b[0m \u001b[39m# For some readers (e.g., ascii.ecsv), the returned `out` class is not\u001b[39;00m\n\u001b[1;32m     65\u001b[0m \u001b[39m# guaranteed to be the same as the desired output `cls`.  If so,\u001b[39;00m\n\u001b[1;32m     66\u001b[0m \u001b[39m# try coercing to desired class without copying (io.registry.read\u001b[39;00m\n\u001b[1;32m     67\u001b[0m \u001b[39m# would normally do a copy).  The normal case here is swapping\u001b[39;00m\n\u001b[1;32m     68\u001b[0m \u001b[39m# Table <=> QTable.\u001b[39;00m\n\u001b[1;32m     69\u001b[0m \u001b[39mif\u001b[39;00m \u001b[39mcls\u001b[39m \u001b[39mis\u001b[39;00m \u001b[39mnot\u001b[39;00m out\u001b[39m.\u001b[39m\u001b[39m__class__\u001b[39m:\n",
      "File \u001b[0;32m/data/groups/jeltema/zhou/miniconda3/envs/new_tng/lib/python3.11/site-packages/astropy/io/registry/core.py:203\u001b[0m, in \u001b[0;36mUnifiedInputRegistry.read\u001b[0;34m(self, cls, format, cache, *args, **kwargs)\u001b[0m\n\u001b[1;32m    199\u001b[0m \u001b[39mtry\u001b[39;00m:\n\u001b[1;32m    200\u001b[0m     ctx \u001b[39m=\u001b[39m get_readable_fileobj(\n\u001b[1;32m    201\u001b[0m         args[\u001b[39m0\u001b[39m], encoding\u001b[39m=\u001b[39m\u001b[39m\"\u001b[39m\u001b[39mbinary\u001b[39m\u001b[39m\"\u001b[39m, cache\u001b[39m=\u001b[39mcache\n\u001b[1;32m    202\u001b[0m     )\n\u001b[0;32m--> 203\u001b[0m     fileobj \u001b[39m=\u001b[39m ctx\u001b[39m.\u001b[39;49m\u001b[39m__enter__\u001b[39;49m()\n\u001b[1;32m    204\u001b[0m \u001b[39mexcept\u001b[39;00m \u001b[39mOSError\u001b[39;00m:\n\u001b[1;32m    205\u001b[0m     \u001b[39mraise\u001b[39;00m\n",
      "File \u001b[0;32m/data/groups/jeltema/zhou/miniconda3/envs/new_tng/lib/python3.11/contextlib.py:137\u001b[0m, in \u001b[0;36m_GeneratorContextManager.__enter__\u001b[0;34m(self)\u001b[0m\n\u001b[1;32m    135\u001b[0m \u001b[39mdel\u001b[39;00m \u001b[39mself\u001b[39m\u001b[39m.\u001b[39margs, \u001b[39mself\u001b[39m\u001b[39m.\u001b[39mkwds, \u001b[39mself\u001b[39m\u001b[39m.\u001b[39mfunc\n\u001b[1;32m    136\u001b[0m \u001b[39mtry\u001b[39;00m:\n\u001b[0;32m--> 137\u001b[0m     \u001b[39mreturn\u001b[39;00m \u001b[39mnext\u001b[39m(\u001b[39mself\u001b[39m\u001b[39m.\u001b[39mgen)\n\u001b[1;32m    138\u001b[0m \u001b[39mexcept\u001b[39;00m \u001b[39mStopIteration\u001b[39;00m:\n\u001b[1;32m    139\u001b[0m     \u001b[39mraise\u001b[39;00m \u001b[39mRuntimeError\u001b[39;00m(\u001b[39m\"\u001b[39m\u001b[39mgenerator didn\u001b[39m\u001b[39m'\u001b[39m\u001b[39mt yield\u001b[39m\u001b[39m\"\u001b[39m) \u001b[39mfrom\u001b[39;00m \u001b[39mNone\u001b[39m\n",
      "File \u001b[0;32m/data/groups/jeltema/zhou/miniconda3/envs/new_tng/lib/python3.11/site-packages/astropy/utils/data.py:353\u001b[0m, in \u001b[0;36mget_readable_fileobj\u001b[0;34m(name_or_obj, encoding, cache, show_progress, remote_timeout, sources, http_headers, use_fsspec, fsspec_kwargs, close_files)\u001b[0m\n\u001b[1;32m    344\u001b[0m \u001b[39mif\u001b[39;00m is_url:\n\u001b[1;32m    345\u001b[0m     name_or_obj \u001b[39m=\u001b[39m download_file(\n\u001b[1;32m    346\u001b[0m         name_or_obj,\n\u001b[1;32m    347\u001b[0m         cache\u001b[39m=\u001b[39mcache,\n\u001b[0;32m   (...)\u001b[0m\n\u001b[1;32m    351\u001b[0m         http_headers\u001b[39m=\u001b[39mhttp_headers,\n\u001b[1;32m    352\u001b[0m     )\n\u001b[0;32m--> 353\u001b[0m fileobj \u001b[39m=\u001b[39m io\u001b[39m.\u001b[39;49mFileIO(name_or_obj, \u001b[39m\"\u001b[39;49m\u001b[39mr\u001b[39;49m\u001b[39m\"\u001b[39;49m)\n\u001b[1;32m    354\u001b[0m \u001b[39mif\u001b[39;00m is_url \u001b[39mand\u001b[39;00m \u001b[39mnot\u001b[39;00m cache:\n\u001b[1;32m    355\u001b[0m     delete_fds\u001b[39m.\u001b[39mappend(fileobj)\n",
      "\u001b[0;31mFileNotFoundError\u001b[0m: [Errno 2] No such file or directory: '../data/interim/gal_table.fits'"
     ]
    }
   ],
   "source": [
    "gal_table = Table.read(\"../data/interim/gal_table.fits\")\n",
    "cen_x = gal_table[gal_table['group_id']==5491][0]['pos_x']\n",
    "cen_y = gal_table[gal_table['group_id']==5491][0]['pos_y']\n",
    "cen_z = gal_table[gal_table['group_id']==5491][0]['pos_z']\n",
    "cen = np.array([cen_x, cen_y, cen_z])"
   ]
  },
  {
   "cell_type": "code",
   "execution_count": 4,
   "metadata": {},
   "outputs": [
    {
     "ename": "OSError",
     "evalue": "``/data/groups/leauthaud/zhou/tng_shmr/ellipsoid_3d/data/raw/cutout_halo_dm_5491.h5`` does not exist",
     "output_type": "error",
     "traceback": [
      "\u001b[0;31m---------------------------------------------------------------------------\u001b[0m",
      "\u001b[0;31mOSError\u001b[0m                                   Traceback (most recent call last)",
      "Cell \u001b[0;32mIn[4], line 2\u001b[0m\n\u001b[1;32m      1\u001b[0m \u001b[39mimport\u001b[39;00m \u001b[39mdeepdish\u001b[39;00m \u001b[39mas\u001b[39;00m \u001b[39mdd\u001b[39;00m\n\u001b[0;32m----> 2\u001b[0m cutout \u001b[39m=\u001b[39m dd\u001b[39m.\u001b[39;49mio\u001b[39m.\u001b[39;49mload(\u001b[39m'\u001b[39;49m\u001b[39m../data/raw/cutout_halo_dm_5491.h5\u001b[39;49m\u001b[39m'\u001b[39;49m)\n\u001b[1;32m      3\u001b[0m points \u001b[39m=\u001b[39m cutout[\u001b[39m'\u001b[39m\u001b[39mPartType1\u001b[39m\u001b[39m'\u001b[39m][\u001b[39m'\u001b[39m\u001b[39mCoordinates\u001b[39m\u001b[39m'\u001b[39m]\n",
      "File \u001b[0;32m/data/groups/jeltema/zhou/miniconda3/envs/new_tng/lib/python3.11/site-packages/deepdish/io/hdf5io.py:636\u001b[0m, in \u001b[0;36mload\u001b[0;34m(path, group, sel, unpack)\u001b[0m\n\u001b[1;32m    602\u001b[0m \u001b[39mdef\u001b[39;00m \u001b[39mload\u001b[39m(path, group\u001b[39m=\u001b[39m\u001b[39mNone\u001b[39;00m, sel\u001b[39m=\u001b[39m\u001b[39mNone\u001b[39;00m, unpack\u001b[39m=\u001b[39m\u001b[39mFalse\u001b[39;00m):\n\u001b[1;32m    603\u001b[0m \u001b[39m    \u001b[39m\u001b[39m\"\"\"\u001b[39;00m\n\u001b[1;32m    604\u001b[0m \u001b[39m    Loads an HDF5 saved with `save`.\u001b[39;00m\n\u001b[1;32m    605\u001b[0m \n\u001b[0;32m   (...)\u001b[0m\n\u001b[1;32m    634\u001b[0m \n\u001b[1;32m    635\u001b[0m \u001b[39m    \"\"\"\u001b[39;00m\n\u001b[0;32m--> 636\u001b[0m     \u001b[39mwith\u001b[39;00m tables\u001b[39m.\u001b[39;49mopen_file(path, mode\u001b[39m=\u001b[39;49m\u001b[39m'\u001b[39;49m\u001b[39mr\u001b[39;49m\u001b[39m'\u001b[39;49m) \u001b[39mas\u001b[39;00m h5file:\n\u001b[1;32m    637\u001b[0m         pathtable \u001b[39m=\u001b[39m {}  \u001b[39m# dict to keep track of objects already loaded\u001b[39;00m\n\u001b[1;32m    638\u001b[0m         \u001b[39mif\u001b[39;00m group \u001b[39mis\u001b[39;00m \u001b[39mnot\u001b[39;00m \u001b[39mNone\u001b[39;00m:\n",
      "File \u001b[0;32m/data/groups/jeltema/zhou/miniconda3/envs/new_tng/lib/python3.11/site-packages/tables/file.py:300\u001b[0m, in \u001b[0;36mopen_file\u001b[0;34m(filename, mode, title, root_uep, filters, **kwargs)\u001b[0m\n\u001b[1;32m    295\u001b[0m             \u001b[39mraise\u001b[39;00m \u001b[39mValueError\u001b[39;00m(\n\u001b[1;32m    296\u001b[0m                 \u001b[39m\"\u001b[39m\u001b[39mThe file \u001b[39m\u001b[39m'\u001b[39m\u001b[39m%s\u001b[39;00m\u001b[39m'\u001b[39m\u001b[39m is already opened.  Please \u001b[39m\u001b[39m\"\u001b[39m\n\u001b[1;32m    297\u001b[0m                 \u001b[39m\"\u001b[39m\u001b[39mclose it before reopening in write mode.\u001b[39m\u001b[39m\"\u001b[39m \u001b[39m%\u001b[39m filename)\n\u001b[1;32m    299\u001b[0m \u001b[39m# Finally, create the File instance, and return it\u001b[39;00m\n\u001b[0;32m--> 300\u001b[0m \u001b[39mreturn\u001b[39;00m File(filename, mode, title, root_uep, filters, \u001b[39m*\u001b[39;49m\u001b[39m*\u001b[39;49mkwargs)\n",
      "File \u001b[0;32m/data/groups/jeltema/zhou/miniconda3/envs/new_tng/lib/python3.11/site-packages/tables/file.py:750\u001b[0m, in \u001b[0;36mFile.__init__\u001b[0;34m(self, filename, mode, title, root_uep, filters, **kwargs)\u001b[0m\n\u001b[1;32m    747\u001b[0m \u001b[39mself\u001b[39m\u001b[39m.\u001b[39mparams \u001b[39m=\u001b[39m params\n\u001b[1;32m    749\u001b[0m \u001b[39m# Now, it is time to initialize the File extension\u001b[39;00m\n\u001b[0;32m--> 750\u001b[0m \u001b[39mself\u001b[39;49m\u001b[39m.\u001b[39;49m_g_new(filename, mode, \u001b[39m*\u001b[39;49m\u001b[39m*\u001b[39;49mparams)\n\u001b[1;32m    752\u001b[0m \u001b[39m# Check filters and set PyTables format version for new files.\u001b[39;00m\n\u001b[1;32m    753\u001b[0m new \u001b[39m=\u001b[39m \u001b[39mself\u001b[39m\u001b[39m.\u001b[39m_v_new\n",
      "File \u001b[0;32m/data/groups/jeltema/zhou/miniconda3/envs/new_tng/lib/python3.11/site-packages/tables/hdf5extension.pyx:368\u001b[0m, in \u001b[0;36mtables.hdf5extension.File._g_new\u001b[0;34m()\u001b[0m\n",
      "File \u001b[0;32m/data/groups/jeltema/zhou/miniconda3/envs/new_tng/lib/python3.11/site-packages/tables/utils.py:143\u001b[0m, in \u001b[0;36mcheck_file_access\u001b[0;34m(filename, mode)\u001b[0m\n\u001b[1;32m    140\u001b[0m \u001b[39mif\u001b[39;00m mode \u001b[39m==\u001b[39m \u001b[39m'\u001b[39m\u001b[39mr\u001b[39m\u001b[39m'\u001b[39m:\n\u001b[1;32m    141\u001b[0m     \u001b[39m# The file should be readable.\u001b[39;00m\n\u001b[1;32m    142\u001b[0m     \u001b[39mif\u001b[39;00m \u001b[39mnot\u001b[39;00m os\u001b[39m.\u001b[39maccess(path, os\u001b[39m.\u001b[39mF_OK):\n\u001b[0;32m--> 143\u001b[0m         \u001b[39mraise\u001b[39;00m \u001b[39mOSError\u001b[39;00m(\u001b[39mf\u001b[39m\u001b[39m\"\u001b[39m\u001b[39m``\u001b[39m\u001b[39m{\u001b[39;00mpath\u001b[39m}\u001b[39;00m\u001b[39m`` does not exist\u001b[39m\u001b[39m\"\u001b[39m)\n\u001b[1;32m    144\u001b[0m     \u001b[39mif\u001b[39;00m \u001b[39mnot\u001b[39;00m path\u001b[39m.\u001b[39mis_file():\n\u001b[1;32m    145\u001b[0m         \u001b[39mraise\u001b[39;00m \u001b[39mOSError\u001b[39;00m(\u001b[39mf\u001b[39m\u001b[39m\"\u001b[39m\u001b[39m``\u001b[39m\u001b[39m{\u001b[39;00mpath\u001b[39m}\u001b[39;00m\u001b[39m`` is not a regular file\u001b[39m\u001b[39m\"\u001b[39m)\n",
      "\u001b[0;31mOSError\u001b[0m: ``/data/groups/leauthaud/zhou/tng_shmr/ellipsoid_3d/data/raw/cutout_halo_dm_5491.h5`` does not exist"
     ]
    }
   ],
   "source": [
    "import deepdish as dd\n",
    "cutout = dd.io.load('../data/raw/cutout_halo_dm_5491.h5')\n",
    "points = cutout['PartType1']['Coordinates']"
   ]
  },
  {
   "cell_type": "code",
   "execution_count": null,
   "metadata": {},
   "outputs": [],
   "source": [
    "# import numpy as np\n",
    "\n",
    "# # Choose the semi-axes of the ellipsoid\n",
    "# a = 100.0  # semi-axis length in x-direction\n",
    "# b = 1.0  # semi-axis length in y-direction\n",
    "# c = 1.0  # semi-axis length in z-direction\n",
    "\n",
    "# # Generate uniformly distributed points within a unit sphere\n",
    "# u = np.random.rand(10000)\n",
    "# v = np.random.rand(10000)\n",
    "# theta = 2 * np.pi * u\n",
    "# phi = np.arccos(2 * v - 1)\n",
    "# x = np.sin(phi) * np.cos(theta)\n",
    "# y = np.sin(phi) * np.sin(theta)\n",
    "# z = np.cos(phi)\n",
    "\n",
    "# # Scale the coordinates of the points by the semi-axes of the ellipsoid\n",
    "# points = np.vstack((a*x, b*y, c*z)).T\n",
    "# print(points)\n",
    "# cen=0,0,0"
   ]
  },
  {
   "cell_type": "code",
   "execution_count": null,
   "metadata": {},
   "outputs": [
    {
     "name": "stdout",
     "output_type": "stream",
     "text": [
      "[-0.1263475   0.23311255  0.43173037]\n"
     ]
    }
   ],
   "source": [
    "print(cen-points[0])"
   ]
  },
  {
   "cell_type": "code",
   "execution_count": 5,
   "metadata": {},
   "outputs": [
    {
     "ename": "NameError",
     "evalue": "name 'points' is not defined",
     "output_type": "error",
     "traceback": [
      "\u001b[0;31m---------------------------------------------------------------------------\u001b[0m",
      "\u001b[0;31mNameError\u001b[0m                                 Traceback (most recent call last)",
      "Cell \u001b[0;32mIn[5], line 2\u001b[0m\n\u001b[1;32m      1\u001b[0m \u001b[39m# converge, length, axes = cs.quad_moment(points, cen, np.ones(len(points)))\u001b[39;00m\n\u001b[0;32m----> 2\u001b[0m converge, length, axes \u001b[39m=\u001b[39m cs\u001b[39m.\u001b[39mquad_moment(points, cen, np\u001b[39m.\u001b[39mones(\u001b[39mlen\u001b[39m(points)))\n",
      "\u001b[0;31mNameError\u001b[0m: name 'points' is not defined"
     ]
    }
   ],
   "source": [
    "# converge, length, axes = cs.quad_moment(points, cen, np.ones(len(points)))\n",
    "converge, length, axes = cs.quad_moment(points, cen, np.ones(len(points)))"
   ]
  },
  {
   "cell_type": "code",
   "execution_count": null,
   "metadata": {},
   "outputs": [
    {
     "name": "stdout",
     "output_type": "stream",
     "text": [
      "[213.04542549720375, 171.20912066069283, 127.2356514365935]\n",
      "[array([ 0.24458991,  0.7709844 , -0.58801261]), array([0.69141338, 0.28648435, 0.66323016]), array([ 0.67979652, -0.56877919, -0.46299775])]\n"
     ]
    }
   ],
   "source": [
    "print(length)\n",
    "print(axes)"
   ]
  },
  {
   "cell_type": "code",
   "execution_count": null,
   "metadata": {},
   "outputs": [
    {
     "data": {
      "application/vnd.jupyter.widget-view+json": {
       "model_id": "dc6b299d7a6b4fb0886212189d781deb",
       "version_major": 2,
       "version_minor": 0
      },
      "text/plain": [
       "Widget(value=\"<iframe src='http://localhost:56012/index.html?ui=P_0x1e261da90_32&reconnect=auto' style='width:…"
      ]
     },
     "metadata": {},
     "output_type": "display_data"
    }
   ],
   "source": [
    "pl = pv.Plotter()\n",
    "SCALE = 1\n",
    "x_arrow = pv.Arrow(start = (0,0,0), direction = axes[0], scale=SCALE*length[0])\n",
    "y_arrow = pv.Arrow(start = (0,0,0), direction = axes[1], scale=SCALE*length[1])\n",
    "z_arrow = pv.Arrow(start = (0,0,0), direction = axes[2], scale=SCALE*length[2])\n",
    "actor = pl.add_points(points-cen, color='white', opacity=0.01)\n",
    "actor = pl.add_mesh(x_arrow, color='red')\n",
    "actor = pl.add_mesh(y_arrow, color='green')\n",
    "actor = pl.add_mesh(z_arrow, color='blue')\n",
    "pl.show()"
   ]
  },
  {
   "cell_type": "code",
   "execution_count": null,
   "metadata": {},
   "outputs": [],
   "source": [
    "import numpy as np"
   ]
  },
  {
   "cell_type": "code",
   "execution_count": null,
   "metadata": {},
   "outputs": [
    {
     "name": "stdout",
     "output_type": "stream",
     "text": [
      "True\n"
     ]
    }
   ],
   "source": [
    "test = False\n",
    "print(not test)"
   ]
  },
  {
   "cell_type": "code",
   "execution_count": null,
   "metadata": {},
   "outputs": [
    {
     "data": {
      "text/plain": [
       "array([[1., 0., 0.],\n",
       "       [0., 1., 0.],\n",
       "       [0., 0., 1.]])"
      ]
     },
     "execution_count": 5,
     "metadata": {},
     "output_type": "execute_result"
    }
   ],
   "source": [
    "np.eye(3)"
   ]
  },
  {
   "cell_type": "code",
   "execution_count": 7,
   "metadata": {},
   "outputs": [
    {
     "name": "stdout",
     "output_type": "stream",
     "text": [
      "Time to clip with a PolyData 2.67 seconds.\n"
     ]
    }
   ],
   "source": [
    "import time\n",
    "\n",
    "import pyvista as pv\n",
    "from pyvista import examples\n",
    "\n",
    "lidar = examples.download_lidar()\n",
    "\n",
    "tstart = time.time()\n",
    "clipped = lidar.clip(origin=(0, 0, 1.76e3), normal=(0, 0, 1))\n",
    "t_elapsed = time.time() - tstart\n",
    "print(f\"Time to clip with a PolyData {t_elapsed:.2f} seconds.\")"
   ]
  },
  {
   "cell_type": "code",
   "execution_count": 2,
   "metadata": {},
   "outputs": [],
   "source": [
    "import numpy as np\n",
    "import pyvista as pv\n",
    "from pyvista import examples\n",
    "import numpy as np\n",
    "\n",
    "points = np.array(\n",
    "    [\n",
    "        [0.0480, 0.0349, 0.9982],\n",
    "        [0.0305, 0.0411, 0.9987],\n",
    "        [0.0207, 0.0329, 0.9992],\n",
    "        [0.0218, 0.0158, 0.9996],\n",
    "        [0.0377, 0.0095, 0.9992],\n",
    "        [0.0485, 0.0163, 0.9987],\n",
    "        [0.0572, 0.0603, 0.9965],\n",
    "        [0.0390, 0.0666, 0.9970],\n",
    "        [0.0289, 0.0576, 0.9979],\n",
    "        [0.0582, 0.0423, 0.9974],\n",
    "        [0.0661, 0.0859, 0.9941],\n",
    "        [0.0476, 0.0922, 0.9946],\n",
    "        [0.0372, 0.0827, 0.9959],\n",
    "        [0.0674, 0.0683, 0.9954],\n",
    "    ],\n",
    ")\n",
    "\n",
    "\n",
    "face_a = [6, 0, 1, 2, 3, 4, 5]\n",
    "face_b = [6, 6, 7, 8, 1, 0, 9]\n",
    "face_c = [6, 10, 11, 12, 7, 6, 13]\n",
    "faces = np.concatenate((face_a, face_b, face_c))\n",
    "\n",
    "mesh = pv.PolyData(points, faces)\n"
   ]
  },
  {
   "cell_type": "code",
   "execution_count": 4,
   "metadata": {},
   "outputs": [
    {
     "name": "stderr",
     "output_type": "stream",
     "text": [
      "which: no Xvfb in (/data/groups/jeltema/zhou/miniconda3/envs/pyvista/bin:/cm/local/apps/environment-modules/4.5.3/bin:/data/groups/jeltema/zhou/.vscode-server/bin/695af097c7bd098fbf017ce3ac85e09bbc5dda06/bin/remote-cli:/data/groups/jeltema/zhou/miniconda3/envs/pyvista/bin:/data/groups/jeltema/zhou/miniconda3/condabin:/cm/shared/apps/slurm/current/sbin:/cm/shared/apps/slurm/current/bin:/home/czhou64/usr/bin:/cm/local/apps/environment-modules/4.5.3/bin:/usr/local/bin:/usr/bin:/usr/local/sbin:/usr/sbin:/sbin:/usr/sbin:/cm/local/apps/environment-modules/4.5.3/bin:/opt/dell/srvadmin/bin)\n"
     ]
    },
    {
     "ename": "OSError",
     "evalue": "Please install Xvfb with:\n\nDebian\n$ sudo apt install libgl1-mesa-glx xvfb\n\nCentOS / RHL\n$ sudo yum install libgl1-mesa-glx xvfb\n\n",
     "output_type": "error",
     "traceback": [
      "\u001b[0;31m---------------------------------------------------------------------------\u001b[0m",
      "\u001b[0;31mOSError\u001b[0m                                   Traceback (most recent call last)",
      "Cell \u001b[0;32mIn[4], line 1\u001b[0m\n\u001b[0;32m----> 1\u001b[0m pv\u001b[39m.\u001b[39;49mstart_xvfb()\n\u001b[1;32m      2\u001b[0m pl \u001b[39m=\u001b[39m pv\u001b[39m.\u001b[39mPlotter()\n\u001b[1;32m      3\u001b[0m pl\u001b[39m.\u001b[39madd_mesh(mesh, color\u001b[39m=\u001b[39m\u001b[39m'\u001b[39m\u001b[39mlightgrey\u001b[39m\u001b[39m'\u001b[39m)\n",
      "File \u001b[0;32m/data/groups/jeltema/zhou/miniconda3/envs/pyvista/lib/python3.11/site-packages/pyvista/utilities/xvfb.py:47\u001b[0m, in \u001b[0;36mstart_xvfb\u001b[0;34m(wait, window_size)\u001b[0m\n\u001b[1;32m     44\u001b[0m     \u001b[39mraise\u001b[39;00m \u001b[39mOSError\u001b[39;00m(\u001b[39m'\u001b[39m\u001b[39m`start_xvfb` is only supported on Linux\u001b[39m\u001b[39m'\u001b[39m)\n\u001b[1;32m     46\u001b[0m \u001b[39mif\u001b[39;00m os\u001b[39m.\u001b[39msystem(\u001b[39m'\u001b[39m\u001b[39mwhich Xvfb > /dev/null\u001b[39m\u001b[39m'\u001b[39m):\n\u001b[0;32m---> 47\u001b[0m     \u001b[39mraise\u001b[39;00m \u001b[39mOSError\u001b[39;00m(XVFB_INSTALL_NOTES)\n\u001b[1;32m     49\u001b[0m \u001b[39m# use current default window size\u001b[39;00m\n\u001b[1;32m     50\u001b[0m \u001b[39mif\u001b[39;00m window_size \u001b[39mis\u001b[39;00m \u001b[39mNone\u001b[39;00m:\n",
      "\u001b[0;31mOSError\u001b[0m: Please install Xvfb with:\n\nDebian\n$ sudo apt install libgl1-mesa-glx xvfb\n\nCentOS / RHL\n$ sudo yum install libgl1-mesa-glx xvfb\n\n"
     ]
    }
   ],
   "source": [
    "pv.start_xvfb()\n",
    "pl = pv.Plotter()\n",
    "pl.add_mesh(mesh, color='lightgrey')\n",
    "pl.background_color = 'white'\n",
    "pl.camera_position = 'xy'"
   ]
  },
  {
   "cell_type": "code",
   "execution_count": 3,
   "metadata": {},
   "outputs": [
    {
     "ename": "",
     "evalue": "",
     "output_type": "error",
     "traceback": [
      "\u001b[1;31mCannot execute code, session has been disposed. Please try restarting the Kernel."
     ]
    },
    {
     "ename": "",
     "evalue": "",
     "output_type": "error",
     "traceback": [
      "\u001b[1;31mThe Kernel crashed while executing code in the the current cell or a previous cell. Please review the code in the cell(s) to identify a possible cause of the failure. Click <a href='https://aka.ms/vscodeJupyterKernelCrash'>here</a> for more info. View Jupyter <a href='command:jupyter.viewOutput'>log</a> for further details."
     ]
    }
   ],
   "source": [
    "pl.show(jupyter_backend='pythreejs')"
   ]
  },
  {
   "cell_type": "code",
   "execution_count": null,
   "metadata": {},
   "outputs": [],
   "source": []
  }
 ],
 "metadata": {
  "kernelspec": {
   "display_name": "Python 3",
   "language": "python",
   "name": "python3"
  },
  "language_info": {
   "codemirror_mode": {
    "name": "ipython",
    "version": 3
   },
   "file_extension": ".py",
   "mimetype": "text/x-python",
   "name": "python",
   "nbconvert_exporter": "python",
   "pygments_lexer": "ipython3",
   "version": "3.11.3"
  },
  "orig_nbformat": 4
 },
 "nbformat": 4,
 "nbformat_minor": 2
}
